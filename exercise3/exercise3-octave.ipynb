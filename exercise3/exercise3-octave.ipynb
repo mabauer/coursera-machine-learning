{
 "cells": [
  {
   "cell_type": "markdown",
   "metadata": {},
   "source": [
    "# Exercise 3: Muli-class Classification and Neural Networks\n",
    "\n",
    "In this exercise, we will use logistic regression and neural networks to recognize handwritten digits (from 0 to 9). Automated handwritten digit recognition is widely used today - from recognizing zip codes (postal codes) on mail envelopes to recognizing amounts written on bank checks. This exercise will show how the methods we’ve learned can be used for this classification task.\n"
   ]
  },
  {
   "cell_type": "markdown",
   "metadata": {},
   "source": [
    "## Our dataset\n",
    "\n",
    "We are given a data set in ex3data1.mat that contains 5000 training examples of handwritten digits.\n",
    "Each training example is a 20 pixel by 20 pixel grayscale image of the digit. Each pixel is represented by a floating point number indicating the grayscale intensity at that location. The 20 by 20 grid of pixels is “unrolled” into a 400-dimensional vector. Each of these training examples becomes a single row in our data matrix X. This gives us a 5000 by 400 matrix X where every row is a training example for a handwritten digit image.\n",
    "\n",
    "The second part of the training set is a 5000-dimensional vector y that contains labels for the training set. To make things more compatible with Octave/MATLAB indexing, where there is no zero index, we have mapped the digit zero to the value ten. Therefore, a “0” digit is labeled as “10”, while the digits “1” to “9” are labeled as “1” to “9” in their natural order."
   ]
  },
  {
   "cell_type": "code",
   "execution_count": 1,
   "metadata": {},
   "outputs": [],
   "source": [
    "% Load saved matrices from file\n",
    "load('data/ex3data1.mat');\n",
    "% The matrices X and y will now be in our Octave environment"
   ]
  },
  {
   "cell_type": "markdown",
   "metadata": {},
   "source": [
    "We will begin by visualizing a subset of the training set."
   ]
  },
  {
   "cell_type": "code",
   "execution_count": 2,
   "metadata": {},
   "outputs": [],
   "source": [
    "function [h, display_array] = displayData(X, example_width)\n",
    "%DISPLAYDATA Display 2D data in a nice grid\n",
    "%   [h, display_array] = DISPLAYDATA(X, example_width) displays 2D data\n",
    "%   stored in X in a nice grid. It returns the figure handle h and the \n",
    "%   displayed array if requested.\n",
    "\n",
    "% Set example_width automatically if not passed in\n",
    "    if ~exist('example_width', 'var') || isempty(example_width) \n",
    "        example_width = round(sqrt(size(X, 2)));\n",
    "    end\n",
    "\n",
    "    % Gray Image\n",
    "    colormap(gray);\n",
    "\n",
    "    % Compute rows, cols\n",
    "    [m n] = size(X);\n",
    "    example_height = (n / example_width);\n",
    "\n",
    "    % Compute number of items to display\n",
    "    display_rows = floor(sqrt(m));\n",
    "    display_cols = ceil(m / display_rows);\n",
    "\n",
    "    % Between images padding\n",
    "    pad = 1;\n",
    "\n",
    "    % Setup blank display\n",
    "    display_array = - ones(pad + display_rows * (example_height + pad), ...\n",
    "                       pad + display_cols * (example_width + pad));\n",
    "\n",
    "    % Copy each example into a patch on the display array\n",
    "    curr_ex = 1;\n",
    "    for j = 1:display_rows\n",
    "        for i = 1:display_cols\n",
    "            if curr_ex > m, \n",
    "                break; \n",
    "            end\n",
    "            % Copy the patch\n",
    "            \n",
    "            % Get the max value of the patch\n",
    "            max_val = max(abs(X(curr_ex, :)));\n",
    "            display_array(pad + (j - 1) * (example_height + pad) + (1:example_height), ...\n",
    "                          pad + (i - 1) * (example_width + pad) + (1:example_width)) = ...\n",
    "                            reshape(X(curr_ex, :), example_height, example_width) / max_val;\n",
    "            curr_ex = curr_ex + 1;\n",
    "        end\n",
    "        if curr_ex > m, \n",
    "            break; \n",
    "        end\n",
    "    end\n",
    "\n",
    "    % Display Image\n",
    "    h = imagesc(display_array, [-1 1]);\n",
    "\n",
    "    % Do not show axis\n",
    "    axis image off\n",
    "\n",
    "    drawnow;\n",
    "\n",
    "end"
   ]
  },
  {
   "cell_type": "code",
   "execution_count": 3,
   "metadata": {},
   "outputs": [
    {
     "data": {
      "image/png": "[encoded data removed]",
      "text/plain": [
       "<IPython.core.display.Image object>"
      ]
     },
     "metadata": {},
     "output_type": "display_data"
    }
   ],
   "source": [
    "m = size(X, 1);\n",
    "\n",
    "% Randomly select 100 data points \n",
    "rand_indices = randperm(m);\n",
    "sel = X(rand_indices(1:100), :);\n",
    "% and display them\n",
    "displayData(sel);"
   ]
  },
  {
   "cell_type": "markdown",
   "metadata": {},
   "source": [
    "## Logistic Regression\n",
    "\n",
    "We will be using multiple one-vs-all logistic regression models to build a multi-class classifier. Since there are 10 classes, we will need to train 10 separate logistic regression classifiers. To make this training efficient, it is important to ensure that our code is well vectorized.\n",
    "\n",
    "Since we already did this in exercise 2, we can simply reuse our functions:"
   ]
  },
  {
   "cell_type": "code",
   "execution_count": 4,
   "metadata": {},
   "outputs": [],
   "source": [
    "function g = sigmoid(z)\n",
    "%SIGMOID Compute sigmoid function\n",
    "%   g = SIGMOID(z) computes the sigmoid of z.\n",
    "\n",
    "    % The function should also work on scalar *and* matrix values \n",
    "    g = zeros(size(z));\n",
    "    \n",
    "    g = 1 ./ ( 1 + exp(-z));\n",
    "end"
   ]
  },
  {
   "cell_type": "code",
   "execution_count": 5,
   "metadata": {},
   "outputs": [],
   "source": [
    "function result = h(theta, x)\n",
    "    result = (sigmoid(theta' * x'))';\n",
    "end"
   ]
  },
  {
   "cell_type": "code",
   "execution_count": 6,
   "metadata": {},
   "outputs": [],
   "source": [
    "function [J, grad] = lrCostFunction(theta, X, y, lambda)\n",
    "%LRCOSTFUNCTION Compute cost and gradient for logistic regression with \n",
    "%regularization\n",
    "%   J = LRCOSTFUNCTION(theta, X, y, lambda) computes the cost of using\n",
    "%   theta as the parameter for regularized logistic regression and the\n",
    "%   gradient of the cost w.r.t. to the parameters. \n",
    "\n",
    "    % Initialize some useful values\n",
    "    m = length(y); % number of training examples\n",
    "    J = 0;\n",
    "    grad = zeros(size(theta));\n",
    "    \n",
    "    % We can use matrix multiplication to computer our sums\n",
    "    sum1 = -log(h(theta, X))'*y - log(1-h(theta, X))'*(1-y) ;\n",
    "    % Special case: don't regularize theta(1), therefore only use theta(2:end)\n",
    "    reg1 = theta(2:end)'*theta(2:end);\n",
    "    \n",
    "    J = 1/m * sum1 + 0.5 * lambda/m * reg1;\n",
    "\n",
    "    % Again, the sums for the gradient is computed using a matrix mutliplication\n",
    "    sum2 = X' * (h(theta, X) - y);\n",
    "    reg2 = lambda/m * theta;\n",
    "    % Special case: don't regularize theta(1)\n",
    "    reg2(1) = 0;\n",
    "    grad = 1/m * sum2 + reg2;\n",
    "\n",
    "    grad = grad(:);\n",
    "\n",
    "end"
   ]
  },
  {
   "cell_type": "code",
   "execution_count": 7,
   "metadata": {},
   "outputs": [
    {
     "name": "stdout",
     "output_type": "stream",
     "text": [
      "\n",
      "Cost: 2.534819\n",
      "Expected cost: 2.534819\n",
      "Gradients:\n",
      " 0.146561 \n",
      " -0.548558 \n",
      " 0.724722 \n",
      " 1.398003 \n",
      "Expected gradients:\n",
      " 0.146561\n",
      " -0.548558\n",
      " 0.724722\n",
      " 1.398003\n"
     ]
    }
   ],
   "source": [
    "theta_t = [-2; -1; 1; 2];\n",
    "X_t = [ones(5,1) reshape(1:15,5,3)/10];\n",
    "y_t = ([1;0;1;0;1] >= 0.5);\n",
    "lambda_t = 3;\n",
    "[J grad] = lrCostFunction(theta_t, X_t, y_t, lambda_t);\n",
    "\n",
    "fprintf('\\nCost: %f\\n', J);\n",
    "fprintf('Expected cost: 2.534819\\n');\n",
    "fprintf('Gradients:\\n');\n",
    "fprintf(' %f \\n', grad);\n",
    "fprintf('Expected gradients:\\n');\n",
    "fprintf(' 0.146561\\n -0.548558\\n 0.724722\\n 1.398003\\n');"
   ]
  },
  {
   "cell_type": "markdown",
   "metadata": {},
   "source": [
    "## Multi-class classification\n",
    "\n",
    "We will now implement one-vs-all classification by training multiple regularized logistic regression classifiers, one for each of the K classes $ (1, 2, 3,..10) $ in our dataset."
   ]
  },
  {
   "cell_type": "code",
   "execution_count": 8,
   "metadata": {},
   "outputs": [],
   "source": [
    "function [all_theta] = oneVsAll(X, y, num_labels, lambda)\n",
    "%ONEVSALL trains multiple logistic regression classifiers and returns all\n",
    "%the classifiers in a matrix all_theta, where the i-th row of all_theta \n",
    "%corresponds to the classifier for label i\n",
    "%   [all_theta] = ONEVSALL(X, y, num_labels, lambda) trains num_labels\n",
    "%   logistic regression classifiers and returns each of these classifiers\n",
    "%   in a matrix all_theta, where the i-th row of all_theta corresponds \n",
    "%   to the classifier for label i\n",
    "\n",
    "    % Some useful variables\n",
    "    m = size(X, 1);\n",
    "    n = size(X, 2);\n",
    "\n",
    "    % You need to return the following variables correctly \n",
    "    all_theta = zeros(num_labels, n + 1);\n",
    "\n",
    "    % Add ones to the X data matrix\n",
    "    X = [ones(m, 1) X];\n",
    "    \n",
    "    % Initial thetas for the optimization alorithm\n",
    "    initial_theta = zeros(n + 1, 1);\n",
    "    \n",
    "    % Set options for fmincg\n",
    "    options = optimset('GradObj', 'on', 'MaxIter', 50);\n",
    " \n",
    "    for c = 1:num_labels\n",
    "    \n",
    "        [theta] = ...\n",
    "            fmincg (@(t)(lrCostFunction(t, X, (y == c), lambda)), ...\n",
    "                initial_theta, options);\n",
    "        all_theta(c,:) = theta';\n",
    "    end\n",
    "end"
   ]
  },
  {
   "cell_type": "code",
   "execution_count": 9,
   "metadata": {},
   "outputs": [
    {
     "name": "stdout",
     "output_type": "stream",
     "text": [
      "Iteration    50 | Cost: 1.388975e-02\n",
      "Iteration    50 | Cost: 5.725255e-02\n",
      "Iteration    50 | Cost: 6.416345e-02\n",
      "Iteration    50 | Cost: 3.905722e-02\n",
      "Iteration    50 | Cost: 6.183782e-02\n",
      "Iteration    50 | Cost: 2.172127e-02\n",
      "Iteration    50 | Cost: 3.602793e-02\n",
      "Iteration    50 | Cost: 8.587279e-02\n",
      "Iteration    50 | Cost: 7.914059e-02\n",
      "Iteration    50 | Cost: 9.988552e-03\n"
     ]
    }
   ],
   "source": [
    "lambda = 0.1;\n",
    "[all_theta] = oneVsAll(X, y, 10, lambda);"
   ]
  },
  {
   "cell_type": "markdown",
   "metadata": {},
   "source": [
    "After training our one-vs-all classifier, we can now use it to predict the digit contained in a given image. \n",
    "\n",
    "For each input, we can compute the “probability” that it belongs to each class using the trained logistic regression classifiers from above. We will now implement a one-vs-all prediction function which will pick the class for which the corresponding logistic regression classifier outputs the highest probability and return the class label (1, 2,..., or K) as the prediction for the input example."
   ]
  },
  {
   "cell_type": "code",
   "execution_count": 10,
   "metadata": {},
   "outputs": [],
   "source": [
    "function p = predictOneVsAll(all_theta, X)\n",
    "%PREDICT Predict the label for a trained one-vs-all classifier. The labels \n",
    "%are in the range 1..K, where K = size(all_theta, 1). \n",
    "%  p = PREDICTONEVSALL(all_theta, X) will return a vector of predictions\n",
    "%  for each example in the matrix X. Note that X contains the examples in\n",
    "%  rows. all_theta is a matrix where the i-th row is a trained logistic\n",
    "%  regression theta vector for the i-th class. You should set p to a vector\n",
    "%  of values from 1..K (e.g., p = [1; 3; 1; 2] predicts classes 1, 3, 1, 2\n",
    "%  for 4 examples) \n",
    "\n",
    "    m = size(X, 1);\n",
    "    num_labels = size(all_theta, 1);\n",
    "\n",
    "    % You need to return the following variables correctly \n",
    "    p = zeros(size(X, 1), 1);\n",
    "\n",
    "    % Add ones to the X data matrix\n",
    "    X = [ones(m, 1) X];\n",
    "    \n",
    "    % Compute the results (all_theta needs to be transposed \n",
    "    % because each row contains the theta values for one label)\n",
    "    % Each row in results contains the K values (for each of the K labels) for one element in the dataset. \n",
    "    results = h(all_theta', X);\n",
    "    \n",
    "    % For each element (i.e. each row), we pick the label with the highest value\n",
    "    [M, p] = max(results, [], 2);\n",
    "end\n"
   ]
  },
  {
   "cell_type": "code",
   "execution_count": 11,
   "metadata": {},
   "outputs": [
    {
     "name": "stdout",
     "output_type": "stream",
     "text": [
      "Training Set Accuracy: 94.960000\n",
      "Expected Accuracy: approx 94.9\n"
     ]
    }
   ],
   "source": [
    "pred = predictOneVsAll(all_theta, X);\n",
    "\n",
    "fprintf('Training Set Accuracy: %f\\n', mean(double(pred == y)) * 100);\n",
    "fprintf('Expected Accuracy: approx 94.9\\n');"
   ]
  },
  {
   "cell_type": "markdown",
   "metadata": {},
   "source": [
    "Let's see what our trained logistic regression function is doing for our randomly selected examples from the beginning of this exercise:"
   ]
  },
  {
   "cell_type": "code",
   "execution_count": 12,
   "metadata": {},
   "outputs": [
    {
     "data": {
      "image/png": "[encoded data removed]",
      "text/plain": [
       "<IPython.core.display.Image object>"
      ]
     },
     "metadata": {},
     "output_type": "display_data"
    }
   ],
   "source": [
    "displayData(sel);"
   ]
  },
  {
   "cell_type": "code",
   "execution_count": 13,
   "metadata": {},
   "outputs": [],
   "source": [
    "% Predict the labels for the selection and convert label 10 to 0\n",
    "guessed_numbers = mod(predictOneVsAll(all_theta, sel), 10);"
   ]
  },
  {
   "cell_type": "code",
   "execution_count": 14,
   "metadata": {},
   "outputs": [
    {
     "name": "stdout",
     "output_type": "stream",
     "text": [
      "ans =\n",
      "\n",
      "   9   7   1   1   1   6   5   0   3   8\n",
      "   4   4   3   7   3   2   7   9   4   2\n",
      "   7   3   8   5   2   6   4   7   1   8\n",
      "   2   6   8   7   5   5   9   6   4   8\n",
      "   3   3   7   3   3   8   4   6   1   1\n",
      "   0   7   2   5   1   5   4   1   3   4\n",
      "   7   0   9   7   7   2   9   4   5   2\n",
      "   4   4   8   5   9   3   9   3   8   4\n",
      "   2   6   0   1   1   5   9   1   1   0\n",
      "   2   2   3   8   9   7   6   9   6   3\n",
      "\n"
     ]
    }
   ],
   "source": [
    "% ... and print them as a matrix \n",
    "reshape(guessed_numbers, [10,10])'"
   ]
  },
  {
   "cell_type": "markdown",
   "metadata": {},
   "source": [
    "Cool!"
   ]
  },
  {
   "cell_type": "markdown",
   "metadata": {},
   "source": [
    "## Applying a previously trained Neural Network\n",
    "\n",
    "In the previous part of this exercise, we implemented multi-class logistic regression to recognize handwritten digits. \n",
    "\n",
    "In this part of the exercise, we will implement a neural network to recognize handwritten digits using the same training set as before. The neural network will be able to represent complex models that form non-linear hy- potheses. "
   ]
  },
  {
   "cell_type": "markdown",
   "metadata": {},
   "source": [
    "![Structure fo our Neural Network](network_structure.png)"
   ]
  },
  {
   "cell_type": "markdown",
   "metadata": {},
   "source": [
    "Let's have a look at the structure of our neural network. It has 3 layers – an input layer, a hidden layer and an output layer. Recall that our inputs are pixel values of digit images. Since the images are of size 20×20, this gives us 400 input layer units (excluding the extra bias unit which always outputs +1). As before, the training data will be loaded into the variables X and y.\n",
    "\n",
    "For this exercise, we will used a previously trained set of parameters $ (\\Theta^{(1)},\\Theta^{(2)}) $. "
   ]
  },
  {
   "cell_type": "code",
   "execution_count": 15,
   "metadata": {},
   "outputs": [],
   "source": [
    "% Load trained parameters as matrices Theta1 and Theta2 \n",
    "load('data/ex3weights.mat');\n",
    "% Theta1 has size 25 x 401\n",
    "% Theta2 has size 10 x 26"
   ]
  },
  {
   "cell_type": "markdown",
   "metadata": {},
   "source": [
    "Let's implement a function that uses the neural network defined by the parameters $ (\\Theta^{(1)},\\Theta^{(2)}) $ to predict the digits for a given data set of our training data:"
   ]
  },
  {
   "cell_type": "code",
   "execution_count": 16,
   "metadata": {},
   "outputs": [],
   "source": [
    "function p = predict(Theta1, Theta2, X)\n",
    "%PREDICT Predict the label of an input given a trained neural network\n",
    "%   p = PREDICT(Theta1, Theta2, X) outputs the predicted label of X given the\n",
    "%   trained weights of a neural network (Theta1, Theta2)\n",
    "\n",
    "    % Useful values\n",
    "    m = size(X, 1);\n",
    "    num_labels = size(Theta2, 1);\n",
    "\n",
    "    p = zeros(size(X, 1), 1);\n",
    "    \n",
    "    % Add ones to the X data matrix\n",
    "    X = [ones(m, 1) X];\n",
    "\n",
    "    % Theta1, Theta2 need to be transposed, since h(theta, X) expects theta to be a column vector\n",
    "    % In Theta1, Theta2 however, the parameters for each node are represented as a row\n",
    "\n",
    "    % Hidden layer\n",
    "    alpha2 = h(Theta1', X);\n",
    "    \n",
    "    % Add additional bias node alpha2(0)\n",
    "    alpha2 = [ones(m, 1) alpha2];\n",
    "    \n",
    "    % Output layer\n",
    "    alpha3 = h(Theta2', alpha2);\n",
    "    \n",
    "    % Pick the best output und use it as label\n",
    "    [M, p] = max(alpha3, [], 2);\n",
    "\n",
    "end"
   ]
  },
  {
   "cell_type": "code",
   "execution_count": 17,
   "metadata": {},
   "outputs": [
    {
     "name": "stdout",
     "output_type": "stream",
     "text": [
      "\n",
      "Training Set Accuracy: 97.520000\n"
     ]
    }
   ],
   "source": [
    "pred = predict(Theta1, Theta2, X);\n",
    "\n",
    "fprintf('\\nTraining Set Accuracy: %f\\n', mean(double(pred == y)) * 100);"
   ]
  },
  {
   "cell_type": "markdown",
   "metadata": {},
   "source": [
    "Let's see what our trained logistic regression function is doing for our randomly selected examples from the beginning of this exercise:"
   ]
  },
  {
   "cell_type": "code",
   "execution_count": 18,
   "metadata": {},
   "outputs": [
    {
     "data": {
      "image/png": "[encoded data removed]",
      "text/plain": [
       "<IPython.core.display.Image object>"
      ]
     },
     "metadata": {},
     "output_type": "display_data"
    }
   ],
   "source": [
    "displayData(sel);"
   ]
  },
  {
   "cell_type": "code",
   "execution_count": 19,
   "metadata": {},
   "outputs": [],
   "source": [
    "% Predict the labels for the selection and convert label 10 to 0\n",
    "guessed_numbers = mod(predict(Theta1, Theta2, sel), 10);"
   ]
  },
  {
   "cell_type": "code",
   "execution_count": 20,
   "metadata": {},
   "outputs": [
    {
     "name": "stdout",
     "output_type": "stream",
     "text": [
      "ans =\n",
      "\n",
      "   9   7   1   1   1   6   5   0   3   8\n",
      "   4   4   5   7   3   2   7   9   4   2\n",
      "   7   3   8   5   2   6   4   7   1   8\n",
      "   2   6   8   7   5   5   9   6   4   8\n",
      "   3   3   7   3   3   5   4   6   1   1\n",
      "   0   7   2   5   1   6   4   1   3   9\n",
      "   7   0   9   7   7   2   9   4   5   2\n",
      "   4   4   8   5   9   3   0   3   8   4\n",
      "   2   6   0   1   1   5   9   1   1   0\n",
      "   2   2   3   8   9   7   6   9   6   3\n",
      "\n"
     ]
    }
   ],
   "source": [
    "% ... and print them as a matrix \n",
    "reshape(guessed_numbers, [10,10])'"
   ]
  },
  {
   "cell_type": "code",
   "execution_count": null,
   "metadata": {},
   "outputs": [],
   "source": []
  }
 ],
 "metadata": {
  "kernelspec": {
   "display_name": "Octave",
   "language": "octave",
   "name": "octave"
  },
  "language_info": {
   "file_extension": ".m",
   "help_links": [
    {
     "text": "GNU Octave",
     "url": "https://www.gnu.org/software/octave/support.html"
    },
    {
     "text": "Octave Kernel",
     "url": "https://github.com/Calysto/octave_kernel"
    },
    {
     "text": "MetaKernel Magics",
     "url": "https://github.com/calysto/metakernel/blob/master/metakernel/magics/README.md"
    }
   ],
   "mimetype": "text/x-octave",
   "name": "octave",
   "version": "4.4.0"
  }
 },
 "nbformat": 4,
 "nbformat_minor": 2
}
