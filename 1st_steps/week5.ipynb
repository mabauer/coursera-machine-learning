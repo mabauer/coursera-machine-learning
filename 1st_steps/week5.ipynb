{
 "cells": [
  {
   "cell_type": "markdown",
   "metadata": {},
   "source": [
    "## Week 5"
   ]
  },
  {
   "cell_type": "markdown",
   "metadata": {},
   "source": [
    "Let $ J(\\theta) = 2 \\theta^3 + 2 $. Let $ \\theta=1 $ and $ \\epsilon = 0.01 $. \n",
    "\n",
    "Use the formula $ \\frac{J(\\theta + \\epsilon) - J(\\theta - \\epsilon)}{2\\epsilon} $\n",
    "to numerically compute an approximation to the derivative at $ \\theta=1 $. \n",
    "\n",
    "What value do you get? \n",
    "\n",
    "(When $ \\theta = 1 $, the true/exact derivative is $ \\frac{dJ(\\theta)}{d\\theta} = 6 \n",
    "$ .)"
   ]
  },
  {
   "cell_type": "code",
   "execution_count": 3,
   "metadata": {},
   "outputs": [],
   "source": [
    "function result = J(theta)\n",
    "    result = 2 * theta^3 + 2;\n",
    "end"
   ]
  },
  {
   "cell_type": "code",
   "execution_count": 4,
   "metadata": {},
   "outputs": [
    {
     "name": "stdout",
     "output_type": "stream",
     "text": [
      "approx_derivative =  6.0002\n"
     ]
    }
   ],
   "source": [
    "theta = 1.0;\n",
    "eps = 0.01;\n",
    "approx_derivative = (J(theta+eps) - J(theta-eps)) / (2*eps)"
   ]
  },
  {
   "cell_type": "code",
   "execution_count": null,
   "metadata": {},
   "outputs": [],
   "source": []
  }
 ],
 "metadata": {
  "kernelspec": {
   "display_name": "Octave",
   "language": "octave",
   "name": "octave"
  },
  "language_info": {
   "file_extension": ".m",
   "help_links": [
    {
     "text": "GNU Octave",
     "url": "https://www.gnu.org/software/octave/support.html"
    },
    {
     "text": "Octave Kernel",
     "url": "https://github.com/Calysto/octave_kernel"
    },
    {
     "text": "MetaKernel Magics",
     "url": "https://github.com/calysto/metakernel/blob/master/metakernel/magics/README.md"
    }
   ],
   "mimetype": "text/x-octave",
   "name": "octave",
   "version": "4.4.0"
  }
 },
 "nbformat": 4,
 "nbformat_minor": 2
}
