{
 "cells": [
  {
   "cell_type": "markdown",
   "metadata": {},
   "source": [
    "# Week 4\n",
    "\n",
    "Quiz1: Simulate two neural networks with swapped thetas"
   ]
  },
  {
   "cell_type": "code",
   "execution_count": 1,
   "metadata": {},
   "outputs": [],
   "source": [
    "function g = sigmoid(z)\n",
    "%SIGMOID Compute sigmoid function\n",
    "%   g = SIGMOID(z) computes the sigmoid of z.\n",
    "\n",
    "    % The function should also work on scalar *and* matrix values \n",
    "    g = zeros(size(z));\n",
    "    \n",
    "    g = 1 ./ ( 1 + exp(-z));\n",
    "end"
   ]
  },
  {
   "cell_type": "code",
   "execution_count": 2,
   "metadata": {},
   "outputs": [
    {
     "name": "stdout",
     "output_type": "stream",
     "text": [
      "x =\n",
      "\n",
      "   1\n",
      "   1\n",
      "   2\n",
      "\n"
     ]
    }
   ],
   "source": [
    "x = [1, 1, 2]'"
   ]
  },
  {
   "cell_type": "code",
   "execution_count": 3,
   "metadata": {},
   "outputs": [
    {
     "name": "stdout",
     "output_type": "stream",
     "text": [
      "theta1 =\n",
      "\n",
      "   1.0000   1.0000   2.4000\n",
      "   1.0000   1.7000   3.2000\n",
      "\n"
     ]
    }
   ],
   "source": [
    "theta1 = [1, 1, 2.4; 1., 1.7, 3.2]"
   ]
  },
  {
   "cell_type": "code",
   "execution_count": 4,
   "metadata": {},
   "outputs": [
    {
     "name": "stdout",
     "output_type": "stream",
     "text": [
      "a2 =\n",
      "\n",
      "   1.00000\n",
      "   0.99889\n",
      "   0.99989\n",
      "\n"
     ]
    }
   ],
   "source": [
    "a2 = [1; sigmoid(theta1*x)]"
   ]
  },
  {
   "cell_type": "code",
   "execution_count": 5,
   "metadata": {},
   "outputs": [
    {
     "name": "stdout",
     "output_type": "stream",
     "text": [
      "theta2 =\n",
      "\n",
      "   1.00000   0.30000  -1.20000\n",
      "\n"
     ]
    }
   ],
   "source": [
    "theta2 = [1, 0.3, -1.2]"
   ]
  },
  {
   "cell_type": "code",
   "execution_count": 6,
   "metadata": {},
   "outputs": [
    {
     "name": "stdout",
     "output_type": "stream",
     "text": [
      "a3 =  0.52493\n"
     ]
    }
   ],
   "source": [
    "a3 = sigmoid(theta2*a2)"
   ]
  },
  {
   "cell_type": "code",
   "execution_count": 7,
   "metadata": {},
   "outputs": [
    {
     "name": "stdout",
     "output_type": "stream",
     "text": [
      "theta1_new =\n",
      "\n",
      "   1.0000   1.7000   3.2000\n",
      "   1.0000   1.0000   2.4000\n",
      "\n"
     ]
    }
   ],
   "source": [
    "theta1_new = [1., 1.7, 3.2; 1, 1, 2.4 ]"
   ]
  },
  {
   "cell_type": "code",
   "execution_count": 8,
   "metadata": {},
   "outputs": [
    {
     "name": "stdout",
     "output_type": "stream",
     "text": [
      "a2_new =\n",
      "\n",
      "   1.00000\n",
      "   0.99989\n",
      "   0.99889\n",
      "\n"
     ]
    }
   ],
   "source": [
    "a2_new = [1; sigmoid(theta1_new*x)]"
   ]
  },
  {
   "cell_type": "code",
   "execution_count": 9,
   "metadata": {},
   "outputs": [
    {
     "name": "stdout",
     "output_type": "stream",
     "text": [
      "theta2_new =\n",
      "\n",
      "   1.00000  -1.20000   0.30000\n",
      "\n"
     ]
    }
   ],
   "source": [
    "theta2_new = [1, -1.2, 0.3]"
   ]
  },
  {
   "cell_type": "code",
   "execution_count": 10,
   "metadata": {},
   "outputs": [
    {
     "name": "stdout",
     "output_type": "stream",
     "text": [
      "a3_new =  0.52493\n"
     ]
    }
   ],
   "source": [
    "a3_new = sigmoid(theta2_new * a2_new)"
   ]
  },
  {
   "cell_type": "code",
   "execution_count": null,
   "metadata": {},
   "outputs": [],
   "source": []
  }
 ],
 "metadata": {
  "kernelspec": {
   "display_name": "Octave",
   "language": "octave",
   "name": "octave"
  },
  "language_info": {
   "file_extension": ".m",
   "help_links": [
    {
     "text": "GNU Octave",
     "url": "https://www.gnu.org/software/octave/support.html"
    },
    {
     "text": "Octave Kernel",
     "url": "https://github.com/Calysto/octave_kernel"
    },
    {
     "text": "MetaKernel Magics",
     "url": "https://github.com/calysto/metakernel/blob/master/metakernel/magics/README.md"
    }
   ],
   "mimetype": "text/x-octave",
   "name": "octave",
   "version": "4.4.0"
  }
 },
 "nbformat": 4,
 "nbformat_minor": 2
}
