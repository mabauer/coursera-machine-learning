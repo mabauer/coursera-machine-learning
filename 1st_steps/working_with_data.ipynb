{
 "cells": [
  {
   "cell_type": "markdown",
   "metadata": {},
   "source": [
    "# Working with Data"
   ]
  },
  {
   "cell_type": "markdown",
   "metadata": {},
   "source": [
    "## Defining matrices and vectors\n",
    "In Octave or Mathlab, matrices are important first class concepts.\n",
    "Matrices can be defined and assigned to variables easily, e.g. by specifying them as a set of rows."
   ]
  },
  {
   "cell_type": "code",
   "execution_count": 1,
   "metadata": {},
   "outputs": [
    {
     "name": "stdout",
     "output_type": "stream",
     "text": [
      "A =\n",
      "\n",
      "   16    2    3   13\n",
      "    5   11   10    8\n",
      "    9    7    6   12\n",
      "    4   14   15    1\n",
      "\n"
     ]
    }
   ],
   "source": [
    "A=[16 2 3 13 ; 5 11 10 8 ; 9 7 6 12 ; 4 14 15 1]"
   ]
  },
  {
   "cell_type": "markdown",
   "metadata": {},
   "source": [
    "Accessing cells of a matrix is straight forward:"
   ]
  },
  {
   "cell_type": "code",
   "execution_count": 2,
   "metadata": {},
   "outputs": [
    {
     "name": "stdout",
     "output_type": "stream",
     "text": [
      "ans =  16\n",
      "ans =  12\n"
     ]
    }
   ],
   "source": [
    "A(1,1)\n",
    "A(3,4)"
   ]
  },
  {
   "cell_type": "markdown",
   "metadata": {},
   "source": [
    "Using the ':' syntax, we can easily work with parts of matrices. In the following example, we copy all rows from matrix A, but from these rows, we only copy columns 1 to 2."
   ]
  },
  {
   "cell_type": "code",
   "execution_count": 3,
   "metadata": {},
   "outputs": [
    {
     "name": "stdout",
     "output_type": "stream",
     "text": [
      "B1 =\n",
      "\n",
      "   16    2\n",
      "    5   11\n",
      "    9    7\n",
      "    4   14\n",
      "\n"
     ]
    }
   ],
   "source": [
    "B1 = A(:, 1:2)"
   ]
  },
  {
   "cell_type": "markdown",
   "metadata": {},
   "source": [
    "Here, we only copy rows 3 to 4 and columns 1 to 2."
   ]
  },
  {
   "cell_type": "code",
   "execution_count": 4,
   "metadata": {},
   "outputs": [
    {
     "name": "stdout",
     "output_type": "stream",
     "text": [
      "B2 =\n",
      "\n",
      "    9    7\n",
      "    4   14\n",
      "\n"
     ]
    }
   ],
   "source": [
    "B2 = A(3:4, 1:2)"
   ]
  },
  {
   "cell_type": "markdown",
   "metadata": {},
   "source": [
    "In Mathlab and Octave, indices start with 1, so the following code does not work correctly:"
   ]
  },
  {
   "cell_type": "code",
   "execution_count": 5,
   "metadata": {},
   "outputs": [
    {
     "name": "stdout",
     "output_type": "stream",
     "text": [
      "error: A(0,_): subscripts must be either integers 1 to (2^63)-1 or logicals\n"
     ]
    }
   ],
   "source": [
    "B4 = A(0:4, 0:2)"
   ]
  },
  {
   "cell_type": "markdown",
   "metadata": {},
   "source": [
    "A vector is a special case of a matrix."
   ]
  },
  {
   "cell_type": "code",
   "execution_count": 6,
   "metadata": {},
   "outputs": [
    {
     "name": "stdout",
     "output_type": "stream",
     "text": [
      "k =\n",
      "\n",
      "   1\n",
      "   2\n",
      "  -1\n",
      "  -2\n",
      "\n"
     ]
    }
   ],
   "source": [
    "k = [1, 2, -1, -2]'"
   ]
  },
  {
   "cell_type": "markdown",
   "metadata": {},
   "source": [
    "## Computing with matrices and vectors\n",
    "Let's start with a very simple matrix multiplication. This is a naive implementation:"
   ]
  },
  {
   "cell_type": "code",
   "execution_count": 7,
   "metadata": {},
   "outputs": [
    {
     "name": "stdout",
     "output_type": "stream",
     "text": [
      "v =\n",
      "\n",
      "   -9\n",
      "    1\n",
      "   -7\n",
      "   15\n",
      "\n"
     ]
    }
   ],
   "source": [
    "v = zeros(4, 1);\n",
    "for i = 1:4\n",
    "  for j = 1:4\n",
    "    v(i) = v(i) + A(i, j) * k(j);\n",
    "  end\n",
    "end\n",
    "v"
   ]
  },
  {
   "cell_type": "markdown",
   "metadata": {},
   "source": [
    "Ocatve and Mathlab have powerful functions (and operators) that directly work with matrices."
   ]
  },
  {
   "cell_type": "code",
   "execution_count": 8,
   "metadata": {},
   "outputs": [
    {
     "name": "stdout",
     "output_type": "stream",
     "text": [
      "v =\n",
      "\n",
      "   -9\n",
      "    1\n",
      "   -7\n",
      "   15\n",
      "\n"
     ]
    }
   ],
   "source": [
    "v = A * k"
   ]
  },
  {
   "cell_type": "code",
   "execution_count": 9,
   "metadata": {},
   "outputs": [
    {
     "name": "stdout",
     "output_type": "stream",
     "text": [
      "v =\n",
      "\n",
      "    9  -11  -13   15\n",
      "\n"
     ]
    }
   ],
   "source": [
    "v = k'* A"
   ]
  },
  {
   "cell_type": "code",
   "execution_count": 10,
   "metadata": {},
   "outputs": [
    {
     "name": "stdout",
     "output_type": "stream",
     "text": [
      "error: 'Ax' undefined near line 1 column 5\n"
     ]
    }
   ],
   "source": [
    "v = Ax"
   ]
  },
  {
   "cell_type": "code",
   "execution_count": 11,
   "metadata": {},
   "outputs": [
    {
     "name": "stdout",
     "output_type": "stream",
     "text": [
      "v = 0\n"
     ]
    }
   ],
   "source": [
    "v = sum(A*k)"
   ]
  },
  {
   "cell_type": "markdown",
   "metadata": {},
   "source": [
    "Examples for working with vectors:"
   ]
  },
  {
   "cell_type": "code",
   "execution_count": 12,
   "metadata": {},
   "outputs": [
    {
     "name": "stdout",
     "output_type": "stream",
     "text": [
      "v =\n",
      "\n",
      "   1\n",
      "   2\n",
      "   3\n",
      "   4\n",
      "   5\n",
      "   6\n",
      "   7\n",
      "\n"
     ]
    }
   ],
   "source": [
    "v = [1, 2, 3, 4, 5, 6, 7]'"
   ]
  },
  {
   "cell_type": "code",
   "execution_count": 13,
   "metadata": {},
   "outputs": [
    {
     "name": "stdout",
     "output_type": "stream",
     "text": [
      "w =\n",
      "\n",
      "   1\n",
      "   2\n",
      "   3\n",
      "   4\n",
      "   5\n",
      "   6\n",
      "   7\n",
      "\n"
     ]
    }
   ],
   "source": [
    "w = [1, 2, 3, 4, 5, 6, 7]'"
   ]
  },
  {
   "cell_type": "code",
   "execution_count": 14,
   "metadata": {},
   "outputs": [
    {
     "name": "stdout",
     "output_type": "stream",
     "text": [
      "z =  140\n"
     ]
    }
   ],
   "source": [
    "z = 0;\n",
    "for i = 1:7\n",
    "  z = z + v(i) * w(i);\n",
    "end\n",
    "z"
   ]
  },
  {
   "cell_type": "code",
   "execution_count": 15,
   "metadata": {},
   "outputs": [
    {
     "name": "stdout",
     "output_type": "stream",
     "text": [
      "z =  140\n"
     ]
    }
   ],
   "source": [
    "z = sum(v .* w)"
   ]
  },
  {
   "cell_type": "code",
   "execution_count": 16,
   "metadata": {},
   "outputs": [
    {
     "name": "stdout",
     "output_type": "stream",
     "text": [
      "z =  140\n"
     ]
    }
   ],
   "source": [
    "z = w' * v"
   ]
  },
  {
   "cell_type": "code",
   "execution_count": 17,
   "metadata": {},
   "outputs": [
    {
     "name": "stdout",
     "output_type": "stream",
     "text": [
      "z =\n",
      "\n",
      "    1    2    3    4    5    6    7\n",
      "    2    4    6    8   10   12   14\n",
      "    3    6    9   12   15   18   21\n",
      "    4    8   12   16   20   24   28\n",
      "    5   10   15   20   25   30   35\n",
      "    6   12   18   24   30   36   42\n",
      "    7   14   21   28   35   42   49\n",
      "\n"
     ]
    }
   ],
   "source": [
    "z = v * w'"
   ]
  },
  {
   "cell_type": "code",
   "execution_count": 18,
   "metadata": {},
   "outputs": [
    {
     "name": "stdout",
     "output_type": "stream",
     "text": [
      "z =\n",
      "\n",
      "    1    2    3    4    5    6    7\n",
      "    2    4    6    8   10   12   14\n",
      "    3    6    9   12   15   18   21\n",
      "    4    8   12   16   20   24   28\n",
      "    5   10   15   20   25   30   35\n",
      "    6   12   18   24   30   36   42\n",
      "    7   14   21   28   35   42   49\n",
      "\n"
     ]
    }
   ],
   "source": [
    "z = w * v'"
   ]
  },
  {
   "cell_type": "markdown",
   "metadata": {},
   "source": [
    "Compare the following cell-based computations with their matrix-based counterparts:"
   ]
  },
  {
   "cell_type": "code",
   "execution_count": 19,
   "metadata": {},
   "outputs": [
    {
     "name": "stdout",
     "output_type": "stream",
     "text": [
      "X =\n",
      "\n",
      "   0.090808   0.988535   0.053331   0.932615   0.264483   0.890509   0.207041\n",
      "   0.018652   0.206447   0.640050   0.207878   0.462292   0.559737   0.995218\n",
      "   0.357157   0.628127   0.188228   0.061904   0.406684   0.063963   0.209684\n",
      "   0.131514   0.510023   0.508671   0.107032   0.389136   0.643710   0.264010\n",
      "   0.976689   0.250221   0.467897   0.229077   0.492010   0.680789   0.069117\n",
      "   0.588139   0.226239   0.803113   0.760182   0.430941   0.890411   0.645419\n",
      "   0.977727   0.652199   0.637394   0.135624   0.131086   0.019639   0.258404\n",
      "\n"
     ]
    }
   ],
   "source": [
    "X = rand (7,7)\n",
    "for i = 1:7\n",
    "  for j = 1:7\n",
    "    A(i, j) = log(X(i, j));\n",
    "    B(i, j) = X(i, j) ^ 2;\n",
    "    C(i, j) = X(i, j) + 1;\n",
    "    D(i, j) = X(i, j) / 4;\n",
    "  end\n",
    "end\n"
   ]
  },
  {
   "cell_type": "code",
   "execution_count": 20,
   "metadata": {},
   "outputs": [
    {
     "name": "stdout",
     "output_type": "stream",
     "text": [
      "A =\n",
      "\n",
      " Columns 1 through 6:\n",
      "\n",
      "  -2.3990111  -0.0115308  -2.9312396  -0.0697631  -1.3299793  -0.1159621\n",
      "  -3.9818037  -1.5777103  -0.4462082  -1.5708027  -0.7715577  -0.5802880\n",
      "  -1.0295807  -0.4650127  -1.6701039  -2.7821759  -0.8997176  -2.7494516\n",
      "  -2.0286432  -0.6732996  -0.6759544  -2.2346242  -0.9438259  -0.4405077\n",
      "  -0.0235871  -1.3854109  -0.7595072  -1.4736990  -0.7092567  -0.3845035\n",
      "  -0.5307928  -1.4861619  -0.2192598  -0.2741979  -0.8417831  -0.1160721\n",
      "  -0.0225248  -0.4274062  -0.4503674  -1.9978696  -2.0318981  -3.9302627\n",
      "\n",
      " Column 7:\n",
      "\n",
      "  -1.5748384\n",
      "  -0.0047936\n",
      "  -1.5621528\n",
      "  -1.3317675\n",
      "  -2.6719601\n",
      "  -0.4378561\n",
      "  -1.3532321\n",
      "\n",
      "A2 =\n",
      "\n",
      " Columns 1 through 6:\n",
      "\n",
      "  -2.3990111  -0.0115308  -2.9312396  -0.0697631  -1.3299793  -0.1159621\n",
      "  -3.9818037  -1.5777103  -0.4462082  -1.5708027  -0.7715577  -0.5802880\n",
      "  -1.0295807  -0.4650127  -1.6701039  -2.7821759  -0.8997176  -2.7494516\n",
      "  -2.0286432  -0.6732996  -0.6759544  -2.2346242  -0.9438259  -0.4405077\n",
      "  -0.0235871  -1.3854109  -0.7595072  -1.4736990  -0.7092567  -0.3845035\n",
      "  -0.5307928  -1.4861619  -0.2192598  -0.2741979  -0.8417831  -0.1160721\n",
      "  -0.0225248  -0.4274062  -0.4503674  -1.9978696  -2.0318981  -3.9302627\n",
      "\n",
      " Column 7:\n",
      "\n",
      "  -1.5748384\n",
      "  -0.0047936\n",
      "  -1.5621528\n",
      "  -1.3317675\n",
      "  -2.6719601\n",
      "  -0.4378561\n",
      "  -1.3532321\n",
      "\n"
     ]
    }
   ],
   "source": [
    "A\n",
    "A2 = log(X)"
   ]
  },
  {
   "cell_type": "code",
   "execution_count": 21,
   "metadata": {},
   "outputs": [
    {
     "name": "stdout",
     "output_type": "stream",
     "text": [
      "B =\n",
      "\n",
      " Columns 1 through 6:\n",
      "\n",
      "   0.00824604   0.97720224   0.00284418   0.86977026   0.06995112   0.79300627\n",
      "   0.00034790   0.04262047   0.40966461   0.04321336   0.21371426   0.31330569\n",
      "   0.12756091   0.39454371   0.03542960   0.00383206   0.16539228   0.00409126\n",
      "   0.01729589   0.26012339   0.25874589   0.01145592   0.15142697   0.41436200\n",
      "   0.95392113   0.06261053   0.21892754   0.05247607   0.24207360   0.46347305\n",
      "   0.34590690   0.05118423   0.64499062   0.57787612   0.18571050   0.79283177\n",
      "   0.95595006   0.42536294   0.40627102   0.01839385   0.01718366   0.00038567\n",
      "\n",
      " Column 7:\n",
      "\n",
      "   0.04286598\n",
      "   0.99045869\n",
      "   0.04396745\n",
      "   0.06970139\n",
      "   0.00477711\n",
      "   0.41656527\n",
      "   0.06677248\n",
      "\n",
      "B2 =\n",
      "\n",
      "   1.15287   1.20568   2.09288   1.15892   1.40664   2.21497   1.90654\n",
      "   2.01525   1.46050   1.65953   0.78856   1.04069   1.13958   1.04880\n",
      "   0.75935   0.88553   0.86331   0.65216   0.74062   1.05946   0.87846\n",
      "   1.23399   1.02459   1.35097   0.88590   1.02255   1.34730   1.18031\n",
      "   1.23911   1.75009   1.23785   1.65598   1.19793   2.12969   1.10109\n",
      "   2.02006   2.25049   2.04214   1.58974   1.56292   2.28997   1.48727\n",
      "   0.73867   1.77647   0.90036   1.18140   0.97892   1.47561   1.10947\n",
      "\n"
     ]
    }
   ],
   "source": [
    "B\n",
    "B2 = X^2"
   ]
  },
  {
   "cell_type": "code",
   "execution_count": 22,
   "metadata": {},
   "outputs": [
    {
     "name": "stdout",
     "output_type": "stream",
     "text": [
      "C =\n",
      "\n",
      "   1.0908   1.9885   1.0533   1.9326   1.2645   1.8905   1.2070\n",
      "   1.0187   1.2064   1.6401   1.2079   1.4623   1.5597   1.9952\n",
      "   1.3572   1.6281   1.1882   1.0619   1.4067   1.0640   1.2097\n",
      "   1.1315   1.5100   1.5087   1.1070   1.3891   1.6437   1.2640\n",
      "   1.9767   1.2502   1.4679   1.2291   1.4920   1.6808   1.0691\n",
      "   1.5881   1.2262   1.8031   1.7602   1.4309   1.8904   1.6454\n",
      "   1.9777   1.6522   1.6374   1.1356   1.1311   1.0196   1.2584\n",
      "\n",
      "C2 =\n",
      "\n",
      "   1.0908   1.9885   1.0533   1.9326   1.2645   1.8905   1.2070\n",
      "   1.0187   1.2064   1.6401   1.2079   1.4623   1.5597   1.9952\n",
      "   1.3572   1.6281   1.1882   1.0619   1.4067   1.0640   1.2097\n",
      "   1.1315   1.5100   1.5087   1.1070   1.3891   1.6437   1.2640\n",
      "   1.9767   1.2502   1.4679   1.2291   1.4920   1.6808   1.0691\n",
      "   1.5881   1.2262   1.8031   1.7602   1.4309   1.8904   1.6454\n",
      "   1.9777   1.6522   1.6374   1.1356   1.1311   1.0196   1.2584\n",
      "\n"
     ]
    }
   ],
   "source": [
    "C\n",
    "C2 = X + 1"
   ]
  },
  {
   "cell_type": "code",
   "execution_count": 23,
   "metadata": {},
   "outputs": [
    {
     "name": "stdout",
     "output_type": "stream",
     "text": [
      "D =\n",
      "\n",
      " Columns 1 through 6:\n",
      "\n",
      "   0.0227019   0.2471338   0.0133327   0.2331537   0.0661207   0.2226272\n",
      "   0.0046630   0.0516118   0.1600126   0.0519696   0.1155731   0.1399343\n",
      "   0.0892892   0.1570318   0.0470569   0.0154759   0.1016711   0.0159907\n",
      "   0.0328785   0.1275057   0.1271677   0.0267581   0.0972840   0.1609274\n",
      "   0.2441722   0.0625552   0.1169742   0.0572691   0.1230024   0.1701971\n",
      "   0.1470346   0.0565598   0.2007783   0.1900454   0.1077354   0.2226028\n",
      "   0.2444317   0.1630496   0.1593485   0.0339060   0.0327716   0.0049096\n",
      "\n",
      " Column 7:\n",
      "\n",
      "   0.0517603\n",
      "   0.2488045\n",
      "   0.0524210\n",
      "   0.0660026\n",
      "   0.0172792\n",
      "   0.1613547\n",
      "   0.0646009\n",
      "\n",
      "D2 =\n",
      "\n",
      " Columns 1 through 6:\n",
      "\n",
      "   0.0227019   0.2471338   0.0133327   0.2331537   0.0661207   0.2226272\n",
      "   0.0046630   0.0516118   0.1600126   0.0519696   0.1155731   0.1399343\n",
      "   0.0892892   0.1570318   0.0470569   0.0154759   0.1016711   0.0159907\n",
      "   0.0328785   0.1275057   0.1271677   0.0267581   0.0972840   0.1609274\n",
      "   0.2441722   0.0625552   0.1169742   0.0572691   0.1230024   0.1701971\n",
      "   0.1470346   0.0565598   0.2007783   0.1900454   0.1077354   0.2226028\n",
      "   0.2444317   0.1630496   0.1593485   0.0339060   0.0327716   0.0049096\n",
      "\n",
      " Column 7:\n",
      "\n",
      "   0.0517603\n",
      "   0.2488045\n",
      "   0.0524210\n",
      "   0.0660026\n",
      "   0.0172792\n",
      "   0.1613547\n",
      "   0.0646009\n",
      "\n"
     ]
    }
   ],
   "source": [
    "D\n",
    "D2 = X / 4"
   ]
  },
  {
   "cell_type": "code",
   "execution_count": null,
   "metadata": {},
   "outputs": [],
   "source": []
  }
 ],
 "metadata": {
  "kernelspec": {
   "display_name": "Octave",
   "language": "octave",
   "name": "octave"
  },
  "language_info": {
   "file_extension": ".m",
   "help_links": [
    {
     "text": "GNU Octave",
     "url": "https://www.gnu.org/software/octave/support.html"
    },
    {
     "text": "Octave Kernel",
     "url": "https://github.com/Calysto/octave_kernel"
    },
    {
     "text": "MetaKernel Magics",
     "url": "https://github.com/calysto/metakernel/blob/master/metakernel/magics/README.md"
    }
   ],
   "mimetype": "text/x-octave",
   "name": "octave",
   "version": "4.4.0"
  }
 },
 "nbformat": 4,
 "nbformat_minor": 2
}
